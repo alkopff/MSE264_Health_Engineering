{
 "cells": [
  {
   "cell_type": "code",
   "execution_count": 1,
   "metadata": {},
   "outputs": [],
   "source": [
    "import matplotlib.pyplot as plt\n",
    "import numpy as np\n",
    "import pandas as pd"
   ]
  },
  {
   "cell_type": "code",
   "execution_count": null,
   "metadata": {},
   "outputs": [],
   "source": [
    "df0 = pd.read_csv('RealWorldData/data_00.csv')\n",
    "df1 = pd.read_csv('Real-world_data/data_01.csv')\n",
    "df2 = pd.read_csv('Real-world_data/data_02.csv')\n",
    "df3 = pd.read_csv('Real-world_data/data_03.csv')\n",
    "df4 = pd.read_csv('Real-world_data/data_04.csv')\n",
    "df5 = pd.read_csv('Real-world_data/data_05.csv')\n",
    "df6 = pd.read_csv('Real-world_data/data_06.csv')\n",
    "df7 = pd.read_csv('Real-world_data/data_07.csv')\n",
    "df8 = pd.read_csv('Real-world_data/data_08.csv')\n",
    "df9 = pd.read_csv('Real-world_data/data_09.csv')\n",
    "df10 = pd.read_csv('Real-world_data/data_10.csv')\n",
    "df11 = pd.read_csv('Real-world_data/data_11.csv')\n",
    "\n",
    "df0.head()"
   ]
  }
 ],
 "metadata": {
  "language_info": {
   "name": "python"
  }
 },
 "nbformat": 4,
 "nbformat_minor": 2
}
